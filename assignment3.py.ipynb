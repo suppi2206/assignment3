{
 "cells": [
  {
   "cell_type": "code",
   "execution_count": 5,
   "id": "a6f1be93",
   "metadata": {},
   "outputs": [
    {
     "name": "stdout",
     "output_type": "stream",
     "text": [
      "20\n"
     ]
    }
   ],
   "source": [
    "#Write a Python function to sum all the numbers in a list.\n",
    "def sum(numbers):\n",
    "    total=0\n",
    "    for i in numbers:\n",
    "        total +=i\n",
    "    return total\n",
    "print(sum((8,2,3,0,7)))\n"
   ]
  },
  {
   "cell_type": "code",
   "execution_count": 7,
   "id": "126e481d",
   "metadata": {},
   "outputs": [
    {
     "name": "stdout",
     "output_type": "stream",
     "text": [
      " dcba4321\n"
     ]
    }
   ],
   "source": [
    "def reverse_string(str1):\n",
    "    rstr1=\" \"\n",
    "    index=len(str1)\n",
    "    while index >0:\n",
    "        rstr1 +=str1[index-1]\n",
    "        index=index-1\n",
    "    return rstr1\n",
    "print(reverse_string(\"1234abcd\"))\n",
    "    "
   ]
  },
  {
   "cell_type": "code",
   "execution_count": 3,
   "id": "7d614fbf",
   "metadata": {},
   "outputs": [
    {
     "name": "stdout",
     "output_type": "stream",
     "text": [
      "Original String :  The quick Brow Fox\n",
      "No. of Upper case characters :  3\n",
      "No. of Lower case Characters :  12\n"
     ]
    }
   ],
   "source": [
    "def string_test(s):\n",
    "    d={\"UPPER_CASE\":0, \"LOWER_CASE\":0}\n",
    "    for c in s:\n",
    "        if c.isupper():\n",
    "           d[\"UPPER_CASE\"]+=1\n",
    "        elif c.islower():\n",
    "           d[\"LOWER_CASE\"]+=1\n",
    "        else:\n",
    "           pass\n",
    "    \n",
    "    print (\"Original String : \", s)\n",
    "    print (\"No. of Upper case characters : \", d[\"UPPER_CASE\"])\n",
    "    print (\"No. of Lower case Characters : \", d[\"LOWER_CASE\"])\n",
    "\n",
    "string_test('The quick Brow Fox')"
   ]
  },
  {
   "cell_type": "code",
   "execution_count": null,
   "id": "ed3c06cd",
   "metadata": {},
   "outputs": [],
   "source": []
  }
 ],
 "metadata": {
  "kernelspec": {
   "display_name": "Python 3 (ipykernel)",
   "language": "python",
   "name": "python3"
  },
  "language_info": {
   "codemirror_mode": {
    "name": "ipython",
    "version": 3
   },
   "file_extension": ".py",
   "mimetype": "text/x-python",
   "name": "python",
   "nbconvert_exporter": "python",
   "pygments_lexer": "ipython3",
   "version": "3.10.6"
  }
 },
 "nbformat": 4,
 "nbformat_minor": 5
}
